{
 "cells": [
  {
   "cell_type": "code",
   "execution_count": null,
   "id": "42837bd3",
   "metadata": {},
   "outputs": [],
   "source": [
    "from rjsmin import jsmin\n",
    "from rcssmin import cssmin\n",
    "\n",
    "def minify_file(input_path, output_path, file_type):\n",
    "    with open(input_path, 'r', encoding='utf-8') as f:\n",
    "        content = f.read()\n",
    "\n",
    "    if file_type == 'js':\n",
    "        minified = jsmin(content)\n",
    "    elif file_type == 'css':\n",
    "        minified = cssmin(content)\n",
    "    else:\n",
    "        raise ValueError(\"Type de fichier inconnu. Utilise 'js' ou 'css'.\")\n",
    "\n",
    "    with open(output_path, 'w', encoding='utf-8') as f:\n",
    "        f.write(minified)\n",
    "    print(f\"Fichier minifié : {output_path}\")\n",
    "\n",
    "minify_file(\"scripts.js\", \"scripts_min.js\", \"js\")\n",
    "minify_file(\"style.css\", \"style_min.css\", \"css\")"
   ]
  }
 ],
 "metadata": {
  "kernelspec": {
   "display_name": "python_env",
   "language": "python",
   "name": "python3"
  },
  "language_info": {
   "codemirror_mode": {
    "name": "ipython",
    "version": 3
   },
   "file_extension": ".py",
   "mimetype": "text/x-python",
   "name": "python",
   "nbconvert_exporter": "python",
   "pygments_lexer": "ipython3",
   "version": "3.11.9"
  }
 },
 "nbformat": 4,
 "nbformat_minor": 5
}
